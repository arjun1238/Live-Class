{
 "cells": [
  {
   "cell_type": "code",
   "execution_count": null,
   "id": "6d77b375",
   "metadata": {},
   "outputs": [],
   "source": [
    "print(\"all ok\")"
   ]
  },
  {
   "cell_type": "code",
   "execution_count": null,
   "id": "475546b9",
   "metadata": {},
   "outputs": [],
   "source": [
    "from pickle import TRUE\n",
    "from typing import Sequence\n",
    "from autogen_agentchat.agents import AssistantAgent\n",
    "from autogen_ext.models.openai import OpenAIChatCompletionClient\n",
    "from autogen_core.models import UserMessage\n",
    "from dotenv import load_dotenv\n",
    "import os\n",
    "#open_router_api_key = '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'\n",
    "\n",
    "\n",
    "load_dotenv(override=TRUE)\n",
    "\n",
    "api_key=os.getenv(\"OPENROUTER_API_KEY\")\n",
    "\n",
    "#os.environ[\"OPENROUTER_API_KEY\"]=os.getenv(\"OPENROUTER_API_KEY\")\n",
    "print(\"Openrouter key:\",api_key)\n",
    "\n",
    "model_client= OpenAIChatCompletionClient(\n",
    "    base_url=\"https://openrouter.ai/api/v1\",\n",
    "    model=\"deepseek/deepseek-r1-0528-qwen3-8b:free\",\n",
    "    api_key=api_key,\n",
    "    model_info={\n",
    "        \"family\":'deepseek',\n",
    "        \"vision\" :True,\n",
    "        \"function_calling\":True,\n",
    "        \"json_output\": False,\n",
    "        \"structured_output\": False\n",
    "    }\n",
    "    )\n",
    "\n",
    "model_client.model_info\n",
    "respone=await model_client.create([UserMessage(content=\"my name is Nag\",source=\"user\")])\n",
    "respone.content\n"
   ]
  },
  {
   "cell_type": "code",
   "execution_count": null,
   "id": "dee372c0",
   "metadata": {},
   "outputs": [],
   "source": [
    "respone2= await model_client.create([UserMessage(content=\"what is my previous question?\",source=\"user\")])\n",
    "respone2"
   ]
  },
  {
   "cell_type": "markdown",
   "id": "2e6e7fc2",
   "metadata": {},
   "source": [
    "CreateResult(finish_reason='stop', content=\"It looks like there's no previous question in this conversation so far. If this is part of an ongoing chat, I might not have access to that history. To answer properly, I need to know the context or you could remind me briefly what you're referring to! 😊\", usage=RequestUsage(prompt_tokens=11, completion_tokens=596), cached=False, logprobs=None, thought=None)"
   ]
  },
  {
   "cell_type": "code",
   "execution_count": null,
   "id": "19d5f96c",
   "metadata": {},
   "outputs": [],
   "source": [
    "agent_1 = AssistantAgent(\n",
    "    name= \"my_first_agent\",\n",
    "    model_client=model_client\n",
    "    )\n",
    "\n",
    "await agent_1.run(task=\"what is the capital of India?\")"
   ]
  },
  {
   "cell_type": "markdown",
   "id": "6f671478",
   "metadata": {},
   "source": [
    "TaskResult(messages=\n",
    "\n",
    "[TextMessage(id='65256893-f3cb-462e-bac5-9e7939b8ec1c', source='user', models_usage=None, metadata={}, created_at=datetime.datetime(2025, 7, 7, 0, 12, 47, 709923, tzinfo=datetime.timezone.utc), content='what is the capital of India?', type='TextMessage'), \n",
    "TextMessage(id='8b64e623-8610-45f1-a6f5-ec7162d33387', source='my_first_agent', models_usage=RequestUsage(prompt_tokens=36, completion_tokens=169), metadata={}, created_at=datetime.datetime(2025, 7, 7, 0, 12, 52, 71998, tzinfo=datetime.timezone.utc), content='The capital of India is New Delhi.\\n\\nTERMINATE', type='TextMessage')], stop_reason=None)"
   ]
  },
  {
   "cell_type": "code",
   "execution_count": null,
   "id": "638f5a92",
   "metadata": {},
   "outputs": [],
   "source": [
    "await agent_1.run(task=\"what is my last question?\")"
   ]
  },
  {
   "cell_type": "markdown",
   "id": "0138d678",
   "metadata": {},
   "source": [
    "TaskResult(messages=[TextMessage(id='6c265a68-3fa2-4490-bf2c-a77362c1c8c4', source='user', models_usage=None, metadata={}, created_at=datetime.datetime(2025, 7, 7, 0, 14, 12, 686571, tzinfo=datetime.timezone.utc), content='what is my last question?', type='TextMessage'), TextMessage(id='5a1471fe-461b-47f2-9489-a61bd6ba9f1a', source='my_first_agent', models_usage=RequestUsage(prompt_tokens=56, completion_tokens=369), metadata={}, created_at=datetime.datetime(2025, 7, 7, 0, 14, 17, 820419, tzinfo=datetime.timezone.utc), content='Your last question was: \"what is the capital of India?\"', type='TextMessage')], stop_reason=None)"
   ]
  },
  {
   "cell_type": "code",
   "execution_count": null,
   "id": "113c50a7",
   "metadata": {},
   "outputs": [],
   "source": [
    "from email import message\n",
    "from http import client\n",
    "from autogen_agentchat.agents import AssistantAgent\n",
    "from autogen_ext.models.openai import OpenAIChatCompletionClient\n",
    "from dotenv import load_dotenv\n",
    "\n",
    "load_dotenv(override=True)\n",
    "\n",
    "api_key= os.getenv(\"OPENROUTER_API_KEY\")\n",
    "print(\"KEY\",api_key)\n",
    "\n",
    "model_client= OpenAIChatCompletionClient(\n",
    "    base_url=\"https://openrouter.ai/api/v1\",\n",
    "    api_key=api_key,\n",
    "    model=\"deepseek/deepseek-r1-0528-qwen3-8b:free\",\n",
    "    model_info= {\n",
    "        \"family\":\"deepseek\",\n",
    "        \"vision\":False,\n",
    "        \"function_calling\": False,\n",
    "        \"json_output\":False,\n",
    "        \"structured_output\":False\n",
    "    }\n",
    ")\n",
    "\n",
    "\n",
    "await model_client.create([UserMessage(content=\"Hello how are you today\",source=\"user\")])\n"
   ]
  },
  {
   "cell_type": "code",
   "execution_count": null,
   "id": "4c954d95",
   "metadata": {},
   "outputs": [],
   "source": [
    "agent_2= AssistantAgent(\n",
    "    name=\"my_second_agent\",\n",
    "    model_client=model_client\n",
    ")\n",
    "\n",
    "await agent_2.run(task=\"Can you explain arithmatic error\")"
   ]
  }
 ],
 "metadata": {
  "kernelspec": {
   "display_name": "Autogen",
   "language": "python",
   "name": "python3"
  },
  "language_info": {
   "codemirror_mode": {
    "name": "ipython",
    "version": 3
   },
   "file_extension": ".py",
   "mimetype": "text/x-python",
   "name": "python",
   "nbconvert_exporter": "python",
   "pygments_lexer": "ipython3",
   "version": "3.12.11"
  }
 },
 "nbformat": 4,
 "nbformat_minor": 5
}
